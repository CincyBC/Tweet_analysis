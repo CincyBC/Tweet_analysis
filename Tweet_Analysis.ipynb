{
 "cells": [
  {
   "cell_type": "markdown",
   "metadata": {},
   "source": [
    "# Simple Tweet Analysis"
   ]
  },
  {
   "cell_type": "code",
   "execution_count": 1,
   "metadata": {},
   "outputs": [
    {
     "name": "stderr",
     "output_type": "stream",
     "text": [
      "/Users/bryancorder/anaconda3/lib/python3.6/site-packages/h5py/__init__.py:34: FutureWarning: Conversion of the second argument of issubdtype from `float` to `np.floating` is deprecated. In future, it will be treated as `np.float64 == np.dtype(float).type`.\n",
      "  from ._conv import register_converters as _register_converters\n",
      "Using TensorFlow backend.\n"
     ]
    }
   ],
   "source": [
    "# Import libraries \n",
    "import numpy as np\n",
    "import pandas as pd\n",
    "import scipy\n",
    "import matplotlib.pyplot as plt\n",
    "import seaborn as sns\n",
    "import spacy\n",
    "from datetime import datetime\n",
    "\n",
    "from sklearn.decomposition import TruncatedSVD\n",
    "from sklearn.pipeline import make_pipeline\n",
    "from sklearn.preprocessing import Normalizer\n",
    "\n",
    "\n",
    "from sklearn.decomposition import PCA\n",
    "from sklearn.feature_extraction.text import TfidfVectorizer\n",
    "from sklearn.utils import resample\n",
    "from sklearn.model_selection import cross_val_score\n",
    "from sklearn.model_selection import train_test_split\n",
    "from sklearn.feature_selection import RFECV\n",
    "from sklearn.linear_model import LogisticRegression\n",
    "from sklearn.linear_model import SGDClassifier\n",
    "from sklearn.svm import LinearSVC\n",
    "from sklearn.preprocessing import StandardScaler\n",
    "from sklearn.tree import DecisionTreeClassifier\n",
    "from sklearn.ensemble import RandomForestClassifier\n",
    "from sklearn.ensemble import GradientBoostingClassifier\n",
    "from sklearn.metrics import confusion_matrix\n",
    "from sklearn.feature_selection import SelectFromModel\n",
    "from sklearn.model_selection import GridSearchCV\n",
    "from sklearn.cluster import KMeans\n",
    "\n",
    "from sklearn import metrics\n",
    "from sklearn.metrics import pairwise_distances\n",
    "from sklearn.preprocessing import normalize\n",
    "import re\n",
    "\n",
    "import tensorflow as tf\n",
    "import keras\n",
    "\n",
    "# Import various componenets for model building\n",
    "from keras.preprocessing import sequence\n",
    "from keras.models import Sequential\n",
    "from keras.layers import Dense, Dropout, Activation\n",
    "from keras.layers import Flatten, Conv1D, MaxPooling1D\n",
    "from keras.layers import Embedding\n",
    "from keras.layers import Conv1D, GlobalMaxPooling1D\n",
    "from keras.layers import Input, TimeDistributed\n",
    "from keras.models import Model\n",
    "from keras.optimizers import SGD\n",
    "\n",
    "# Import the backend\n",
    "from keras import backend as K\n",
    "\n",
    "\n",
    "from collections import Counter\n",
    "%matplotlib inline"
   ]
  },
  {
   "cell_type": "markdown",
   "metadata": {},
   "source": [
    "## Data\n",
    "Comes from...."
   ]
  },
  {
   "cell_type": "code",
   "execution_count": 2,
   "metadata": {},
   "outputs": [
    {
     "data": {
      "text/html": [
       "<div>\n",
       "<style>\n",
       "    .dataframe thead tr:only-child th {\n",
       "        text-align: right;\n",
       "    }\n",
       "\n",
       "    .dataframe thead th {\n",
       "        text-align: left;\n",
       "    }\n",
       "\n",
       "    .dataframe tbody tr th {\n",
       "        vertical-align: top;\n",
       "    }\n",
       "</style>\n",
       "<table border=\"1\" class=\"dataframe\">\n",
       "  <thead>\n",
       "    <tr style=\"text-align: right;\">\n",
       "      <th></th>\n",
       "      <th>external_author_id</th>\n",
       "      <th>author</th>\n",
       "      <th>content</th>\n",
       "      <th>region</th>\n",
       "      <th>language</th>\n",
       "      <th>publish_date</th>\n",
       "      <th>harvested_date</th>\n",
       "      <th>following</th>\n",
       "      <th>followers</th>\n",
       "      <th>updates</th>\n",
       "      <th>post_type</th>\n",
       "      <th>account_type</th>\n",
       "      <th>new_june_2018</th>\n",
       "      <th>retweet</th>\n",
       "      <th>account_category</th>\n",
       "    </tr>\n",
       "  </thead>\n",
       "  <tbody>\n",
       "    <tr>\n",
       "      <th>0</th>\n",
       "      <td>9.060000e+17</td>\n",
       "      <td>10_GOP</td>\n",
       "      <td>\"We have a sitting Democrat US Senator on tria...</td>\n",
       "      <td>Unknown</td>\n",
       "      <td>English</td>\n",
       "      <td>10/1/2017 19:58</td>\n",
       "      <td>10/1/2017 19:59</td>\n",
       "      <td>1052</td>\n",
       "      <td>9636</td>\n",
       "      <td>253</td>\n",
       "      <td>NaN</td>\n",
       "      <td>Right</td>\n",
       "      <td>0</td>\n",
       "      <td>0</td>\n",
       "      <td>RightTroll</td>\n",
       "    </tr>\n",
       "    <tr>\n",
       "      <th>1</th>\n",
       "      <td>9.060000e+17</td>\n",
       "      <td>10_GOP</td>\n",
       "      <td>Marshawn Lynch arrives to game in anti-Trump s...</td>\n",
       "      <td>Unknown</td>\n",
       "      <td>English</td>\n",
       "      <td>10/1/2017 22:43</td>\n",
       "      <td>10/1/2017 22:43</td>\n",
       "      <td>1054</td>\n",
       "      <td>9637</td>\n",
       "      <td>254</td>\n",
       "      <td>NaN</td>\n",
       "      <td>Right</td>\n",
       "      <td>0</td>\n",
       "      <td>0</td>\n",
       "      <td>RightTroll</td>\n",
       "    </tr>\n",
       "    <tr>\n",
       "      <th>2</th>\n",
       "      <td>9.060000e+17</td>\n",
       "      <td>10_GOP</td>\n",
       "      <td>Daughter of fallen Navy Sailor delivers powerf...</td>\n",
       "      <td>Unknown</td>\n",
       "      <td>English</td>\n",
       "      <td>10/1/2017 22:50</td>\n",
       "      <td>10/1/2017 22:51</td>\n",
       "      <td>1054</td>\n",
       "      <td>9637</td>\n",
       "      <td>255</td>\n",
       "      <td>RETWEET</td>\n",
       "      <td>Right</td>\n",
       "      <td>0</td>\n",
       "      <td>1</td>\n",
       "      <td>RightTroll</td>\n",
       "    </tr>\n",
       "    <tr>\n",
       "      <th>3</th>\n",
       "      <td>9.060000e+17</td>\n",
       "      <td>10_GOP</td>\n",
       "      <td>JUST IN: President Trump dedicates Presidents ...</td>\n",
       "      <td>Unknown</td>\n",
       "      <td>English</td>\n",
       "      <td>10/1/2017 23:52</td>\n",
       "      <td>10/1/2017 23:52</td>\n",
       "      <td>1062</td>\n",
       "      <td>9642</td>\n",
       "      <td>256</td>\n",
       "      <td>NaN</td>\n",
       "      <td>Right</td>\n",
       "      <td>0</td>\n",
       "      <td>0</td>\n",
       "      <td>RightTroll</td>\n",
       "    </tr>\n",
       "    <tr>\n",
       "      <th>4</th>\n",
       "      <td>9.060000e+17</td>\n",
       "      <td>10_GOP</td>\n",
       "      <td>19,000 RESPECTING our National Anthem! #StandF...</td>\n",
       "      <td>Unknown</td>\n",
       "      <td>English</td>\n",
       "      <td>10/1/2017 2:13</td>\n",
       "      <td>10/1/2017 2:13</td>\n",
       "      <td>1050</td>\n",
       "      <td>9645</td>\n",
       "      <td>246</td>\n",
       "      <td>RETWEET</td>\n",
       "      <td>Right</td>\n",
       "      <td>0</td>\n",
       "      <td>1</td>\n",
       "      <td>RightTroll</td>\n",
       "    </tr>\n",
       "    <tr>\n",
       "      <th>5</th>\n",
       "      <td>9.060000e+17</td>\n",
       "      <td>10_GOP</td>\n",
       "      <td>Dan Bongino: \"Nobody trolls liberals better th...</td>\n",
       "      <td>Unknown</td>\n",
       "      <td>English</td>\n",
       "      <td>10/1/2017 2:47</td>\n",
       "      <td>10/1/2017 2:47</td>\n",
       "      <td>1050</td>\n",
       "      <td>9644</td>\n",
       "      <td>247</td>\n",
       "      <td>NaN</td>\n",
       "      <td>Right</td>\n",
       "      <td>0</td>\n",
       "      <td>0</td>\n",
       "      <td>RightTroll</td>\n",
       "    </tr>\n",
       "    <tr>\n",
       "      <th>6</th>\n",
       "      <td>9.060000e+17</td>\n",
       "      <td>10_GOP</td>\n",
       "      <td>🐝🐝🐝 https://t.co/MorL3AQW0z</td>\n",
       "      <td>Unknown</td>\n",
       "      <td>English</td>\n",
       "      <td>10/1/2017 2:48</td>\n",
       "      <td>10/1/2017 2:48</td>\n",
       "      <td>1050</td>\n",
       "      <td>9644</td>\n",
       "      <td>248</td>\n",
       "      <td>RETWEET</td>\n",
       "      <td>Right</td>\n",
       "      <td>0</td>\n",
       "      <td>1</td>\n",
       "      <td>RightTroll</td>\n",
       "    </tr>\n",
       "    <tr>\n",
       "      <th>7</th>\n",
       "      <td>9.060000e+17</td>\n",
       "      <td>10_GOP</td>\n",
       "      <td>'@SenatorMenendez @CarmenYulinCruz Doesn't mat...</td>\n",
       "      <td>Unknown</td>\n",
       "      <td>English</td>\n",
       "      <td>10/1/2017 2:52</td>\n",
       "      <td>10/1/2017 2:53</td>\n",
       "      <td>1050</td>\n",
       "      <td>9644</td>\n",
       "      <td>249</td>\n",
       "      <td>NaN</td>\n",
       "      <td>Right</td>\n",
       "      <td>0</td>\n",
       "      <td>0</td>\n",
       "      <td>RightTroll</td>\n",
       "    </tr>\n",
       "    <tr>\n",
       "      <th>8</th>\n",
       "      <td>9.060000e+17</td>\n",
       "      <td>10_GOP</td>\n",
       "      <td>As much as I hate promoting CNN article, here ...</td>\n",
       "      <td>Unknown</td>\n",
       "      <td>English</td>\n",
       "      <td>10/1/2017 3:47</td>\n",
       "      <td>10/1/2017 3:47</td>\n",
       "      <td>1050</td>\n",
       "      <td>9646</td>\n",
       "      <td>250</td>\n",
       "      <td>NaN</td>\n",
       "      <td>Right</td>\n",
       "      <td>0</td>\n",
       "      <td>0</td>\n",
       "      <td>RightTroll</td>\n",
       "    </tr>\n",
       "    <tr>\n",
       "      <th>9</th>\n",
       "      <td>9.060000e+17</td>\n",
       "      <td>10_GOP</td>\n",
       "      <td>After the 'genocide' remark from San Juan Mayo...</td>\n",
       "      <td>Unknown</td>\n",
       "      <td>English</td>\n",
       "      <td>10/1/2017 3:51</td>\n",
       "      <td>10/1/2017 3:51</td>\n",
       "      <td>1050</td>\n",
       "      <td>9646</td>\n",
       "      <td>251</td>\n",
       "      <td>NaN</td>\n",
       "      <td>Right</td>\n",
       "      <td>0</td>\n",
       "      <td>0</td>\n",
       "      <td>RightTroll</td>\n",
       "    </tr>\n",
       "  </tbody>\n",
       "</table>\n",
       "</div>"
      ],
      "text/plain": [
       "   external_author_id  author  \\\n",
       "0        9.060000e+17  10_GOP   \n",
       "1        9.060000e+17  10_GOP   \n",
       "2        9.060000e+17  10_GOP   \n",
       "3        9.060000e+17  10_GOP   \n",
       "4        9.060000e+17  10_GOP   \n",
       "5        9.060000e+17  10_GOP   \n",
       "6        9.060000e+17  10_GOP   \n",
       "7        9.060000e+17  10_GOP   \n",
       "8        9.060000e+17  10_GOP   \n",
       "9        9.060000e+17  10_GOP   \n",
       "\n",
       "                                             content   region language  \\\n",
       "0  \"We have a sitting Democrat US Senator on tria...  Unknown  English   \n",
       "1  Marshawn Lynch arrives to game in anti-Trump s...  Unknown  English   \n",
       "2  Daughter of fallen Navy Sailor delivers powerf...  Unknown  English   \n",
       "3  JUST IN: President Trump dedicates Presidents ...  Unknown  English   \n",
       "4  19,000 RESPECTING our National Anthem! #StandF...  Unknown  English   \n",
       "5  Dan Bongino: \"Nobody trolls liberals better th...  Unknown  English   \n",
       "6                        🐝🐝🐝 https://t.co/MorL3AQW0z  Unknown  English   \n",
       "7  '@SenatorMenendez @CarmenYulinCruz Doesn't mat...  Unknown  English   \n",
       "8  As much as I hate promoting CNN article, here ...  Unknown  English   \n",
       "9  After the 'genocide' remark from San Juan Mayo...  Unknown  English   \n",
       "\n",
       "      publish_date   harvested_date  following  followers  updates post_type  \\\n",
       "0  10/1/2017 19:58  10/1/2017 19:59       1052       9636      253       NaN   \n",
       "1  10/1/2017 22:43  10/1/2017 22:43       1054       9637      254       NaN   \n",
       "2  10/1/2017 22:50  10/1/2017 22:51       1054       9637      255   RETWEET   \n",
       "3  10/1/2017 23:52  10/1/2017 23:52       1062       9642      256       NaN   \n",
       "4   10/1/2017 2:13   10/1/2017 2:13       1050       9645      246   RETWEET   \n",
       "5   10/1/2017 2:47   10/1/2017 2:47       1050       9644      247       NaN   \n",
       "6   10/1/2017 2:48   10/1/2017 2:48       1050       9644      248   RETWEET   \n",
       "7   10/1/2017 2:52   10/1/2017 2:53       1050       9644      249       NaN   \n",
       "8   10/1/2017 3:47   10/1/2017 3:47       1050       9646      250       NaN   \n",
       "9   10/1/2017 3:51   10/1/2017 3:51       1050       9646      251       NaN   \n",
       "\n",
       "  account_type  new_june_2018  retweet account_category  \n",
       "0        Right              0        0       RightTroll  \n",
       "1        Right              0        0       RightTroll  \n",
       "2        Right              0        1       RightTroll  \n",
       "3        Right              0        0       RightTroll  \n",
       "4        Right              0        1       RightTroll  \n",
       "5        Right              0        0       RightTroll  \n",
       "6        Right              0        1       RightTroll  \n",
       "7        Right              0        0       RightTroll  \n",
       "8        Right              0        0       RightTroll  \n",
       "9        Right              0        0       RightTroll  "
      ]
     },
     "execution_count": 2,
     "metadata": {},
     "output_type": "execute_result"
    }
   ],
   "source": [
    "raw_data = pd.read_csv('IRAhandle_tweets_1.csv')\n",
    "raw_data.head(10)"
   ]
  },
  {
   "cell_type": "code",
   "execution_count": 3,
   "metadata": {},
   "outputs": [
    {
     "data": {
      "text/plain": [
       "region          318\n",
       "post_type    183766\n",
       "dtype: int64"
      ]
     },
     "execution_count": 3,
     "metadata": {},
     "output_type": "execute_result"
    }
   ],
   "source": [
    "# Make sure it is not containing Null values\n",
    "null_count = raw_data.isnull().sum()\n",
    "null_count[null_count>0]"
   ]
  },
  {
   "cell_type": "code",
   "execution_count": 4,
   "metadata": {
    "collapsed": true
   },
   "outputs": [],
   "source": [
    "raw_data['region'] = raw_data.post_type.fillna('Unknown')"
   ]
  },
  {
   "cell_type": "code",
   "execution_count": 5,
   "metadata": {
    "scrolled": false
   },
   "outputs": [
    {
     "data": {
      "image/png": "[encoded data removed]",
      "text/plain": [
       "<Figure size 842.4x595.44 with 1 Axes>"
      ]
     },
     "metadata": {},
     "output_type": "display_data"
    },
    {
     "data": {
      "image/png": "[encoded data removed]",
      "text/plain": [
       "<Figure size 842.4x595.44 with 1 Axes>"
      ]
     },
     "metadata": {},
     "output_type": "display_data"
    },
    {
     "data": {
      "image/png": "[encoded data removed]",
      "text/plain": [
       "<Figure size 842.4x595.44 with 1 Axes>"
      ]
     },
     "metadata": {},
     "output_type": "display_data"
    },
    {
     "data": {
      "image/png": "[encoded data removed]",
      "text/plain": [
       "<Figure size 842.4x595.44 with 1 Axes>"
      ]
     },
     "metadata": {},
     "output_type": "display_data"
    },
    {
     "data": {
      "image/png": "[encoded data removed]",
      "text/plain": [
       "<Figure size 842.4x595.44 with 1 Axes>"
      ]
     },
     "metadata": {},
     "output_type": "display_data"
    },
    {
     "data": {
      "image/png": "[encoded data removed]",
      "text/plain": [
       "<Figure size 842.4x595.44 with 1 Axes>"
      ]
     },
     "metadata": {},
     "output_type": "display_data"
    },
    {
     "data": {
      "image/png": "[encoded data removed]",
      "text/plain": [
       "<Figure size 842.4x595.44 with 1 Axes>"
      ]
     },
     "metadata": {},
     "output_type": "display_data"
    }
   ],
   "source": [
    "#Visulizations\n",
    "cat_list = ['author', 'language', 'region', 'post_type', 'account_type', 'retweet', 'account_category']\n",
    "for ls in cat_list:\n",
    "    fig, ax = plt.subplots()\n",
    "    fig.set_size_inches(11.7, 8.27)\n",
    "    sns.countplot(x=ls, data=raw_data)\n",
    "    plt.show()"
   ]
  },
  {
   "cell_type": "code",
   "execution_count": 6,
   "metadata": {},
   "outputs": [
    {
     "data": {
      "image/png": "[encoded data removed]",
      "text/plain": [
       "<Figure size 842.4x595.44 with 1 Axes>"
      ]
     },
     "metadata": {},
     "output_type": "display_data"
    }
   ],
   "source": [
    "# Convert the publish date to a readable format in Pandas\n",
    "raw_data[\"publish_date\"] = raw_data[\"publish_date\"].apply(lambda x: \\\n",
    "    datetime.strptime(x,\"%m/%d/%Y %H:%M\"))\n",
    "date = raw_data['publish_date'].dt.date\n",
    "fig, ax = plt.subplots()\n",
    "fig.set_size_inches(11.7, 8.27)\n",
    "sns.countplot(x=date, data=raw_data)\n",
    "plt.show()"
   ]
  },
  {
   "cell_type": "code",
   "execution_count": 7,
   "metadata": {},
   "outputs": [
    {
     "data": {
      "text/plain": [
       "2017-08-16    7174\n",
       "2017-08-12    6802\n",
       "2017-08-18    6235\n",
       "2017-08-15    5985\n",
       "2017-08-17    5826\n",
       "2017-08-13    5201\n",
       "2017-08-14    5108\n",
       "2016-10-06    3509\n",
       "2017-08-10    2844\n",
       "2017-08-09    2783\n",
       "2017-08-11    2661\n",
       "2015-07-22    2606\n",
       "2016-10-07    2145\n",
       "2016-09-17    2125\n",
       "2017-08-08    1854\n",
       "2015-07-03    1826\n",
       "2015-07-21    1826\n",
       "2016-09-18    1749\n",
       "2015-07-06    1634\n",
       "2016-09-19    1470\n",
       "2015-07-07    1453\n",
       "2015-06-27    1428\n",
       "2015-06-29    1366\n",
       "2015-06-28    1364\n",
       "2016-09-16    1321\n",
       "2017-08-03    1310\n",
       "2015-07-05    1173\n",
       "2017-08-07    1155\n",
       "2015-06-26    1086\n",
       "2015-11-15    1080\n",
       "              ... \n",
       "2018-01-24       1\n",
       "2012-11-21       1\n",
       "2013-06-11       1\n",
       "2018-02-18       1\n",
       "2018-01-17       1\n",
       "2013-05-19       1\n",
       "2015-04-29       1\n",
       "2013-05-25       1\n",
       "2014-04-19       1\n",
       "2018-03-01       1\n",
       "2015-05-01       1\n",
       "2013-12-20       1\n",
       "2013-06-06       1\n",
       "2017-12-08       1\n",
       "2018-02-13       1\n",
       "2015-03-25       1\n",
       "2018-01-18       1\n",
       "2017-12-27       1\n",
       "2013-02-01       1\n",
       "2018-01-27       1\n",
       "2017-12-12       1\n",
       "2018-02-08       1\n",
       "2015-02-11       1\n",
       "2013-06-30       1\n",
       "2013-06-07       1\n",
       "2013-08-22       1\n",
       "2013-06-15       1\n",
       "2015-05-05       1\n",
       "2018-01-09       1\n",
       "2015-04-15       1\n",
       "Name: publish_date, Length: 1178, dtype: int64"
      ]
     },
     "execution_count": 7,
     "metadata": {},
     "output_type": "execute_result"
    }
   ],
   "source": [
    "# See the days with the most tweets\n",
    "date.value_counts()"
   ]
  },
  {
   "cell_type": "code",
   "execution_count": 8,
   "metadata": {},
   "outputs": [
    {
     "data": {
      "text/html": [
       "<div>\n",
       "<style>\n",
       "    .dataframe thead tr:only-child th {\n",
       "        text-align: right;\n",
       "    }\n",
       "\n",
       "    .dataframe thead th {\n",
       "        text-align: left;\n",
       "    }\n",
       "\n",
       "    .dataframe tbody tr th {\n",
       "        vertical-align: top;\n",
       "    }\n",
       "</style>\n",
       "<table border=\"1\" class=\"dataframe\">\n",
       "  <thead>\n",
       "    <tr style=\"text-align: right;\">\n",
       "      <th></th>\n",
       "      <th>external_author_id</th>\n",
       "      <th>author</th>\n",
       "      <th>content</th>\n",
       "      <th>region</th>\n",
       "      <th>language</th>\n",
       "      <th>publish_date</th>\n",
       "      <th>harvested_date</th>\n",
       "      <th>following</th>\n",
       "      <th>followers</th>\n",
       "      <th>updates</th>\n",
       "      <th>post_type</th>\n",
       "      <th>account_type</th>\n",
       "      <th>new_june_2018</th>\n",
       "      <th>retweet</th>\n",
       "      <th>account_category</th>\n",
       "    </tr>\n",
       "  </thead>\n",
       "  <tbody>\n",
       "    <tr>\n",
       "      <th>0</th>\n",
       "      <td>9.060000e+17</td>\n",
       "      <td>10_GOP</td>\n",
       "      <td>\"We have a sitting Democrat US Senator on tria...</td>\n",
       "      <td>Unknown</td>\n",
       "      <td>English</td>\n",
       "      <td>2017-10-01 19:58:00</td>\n",
       "      <td>10/1/2017 19:59</td>\n",
       "      <td>1052</td>\n",
       "      <td>9636</td>\n",
       "      <td>253</td>\n",
       "      <td>0</td>\n",
       "      <td>Right</td>\n",
       "      <td>0</td>\n",
       "      <td>0</td>\n",
       "      <td>RightTroll</td>\n",
       "    </tr>\n",
       "    <tr>\n",
       "      <th>1</th>\n",
       "      <td>9.060000e+17</td>\n",
       "      <td>10_GOP</td>\n",
       "      <td>Marshawn Lynch arrives to game in anti-Trump s...</td>\n",
       "      <td>Unknown</td>\n",
       "      <td>English</td>\n",
       "      <td>2017-10-01 22:43:00</td>\n",
       "      <td>10/1/2017 22:43</td>\n",
       "      <td>1054</td>\n",
       "      <td>9637</td>\n",
       "      <td>254</td>\n",
       "      <td>0</td>\n",
       "      <td>Right</td>\n",
       "      <td>0</td>\n",
       "      <td>0</td>\n",
       "      <td>RightTroll</td>\n",
       "    </tr>\n",
       "    <tr>\n",
       "      <th>2</th>\n",
       "      <td>9.060000e+17</td>\n",
       "      <td>10_GOP</td>\n",
       "      <td>Daughter of fallen Navy Sailor delivers powerf...</td>\n",
       "      <td>RETWEET</td>\n",
       "      <td>English</td>\n",
       "      <td>2017-10-01 22:50:00</td>\n",
       "      <td>10/1/2017 22:51</td>\n",
       "      <td>1054</td>\n",
       "      <td>9637</td>\n",
       "      <td>255</td>\n",
       "      <td>1</td>\n",
       "      <td>Right</td>\n",
       "      <td>0</td>\n",
       "      <td>1</td>\n",
       "      <td>RightTroll</td>\n",
       "    </tr>\n",
       "    <tr>\n",
       "      <th>3</th>\n",
       "      <td>9.060000e+17</td>\n",
       "      <td>10_GOP</td>\n",
       "      <td>JUST IN: President Trump dedicates Presidents ...</td>\n",
       "      <td>Unknown</td>\n",
       "      <td>English</td>\n",
       "      <td>2017-10-01 23:52:00</td>\n",
       "      <td>10/1/2017 23:52</td>\n",
       "      <td>1062</td>\n",
       "      <td>9642</td>\n",
       "      <td>256</td>\n",
       "      <td>0</td>\n",
       "      <td>Right</td>\n",
       "      <td>0</td>\n",
       "      <td>0</td>\n",
       "      <td>RightTroll</td>\n",
       "    </tr>\n",
       "    <tr>\n",
       "      <th>4</th>\n",
       "      <td>9.060000e+17</td>\n",
       "      <td>10_GOP</td>\n",
       "      <td>19,000 RESPECTING our National Anthem! #StandF...</td>\n",
       "      <td>RETWEET</td>\n",
       "      <td>English</td>\n",
       "      <td>2017-10-01 02:13:00</td>\n",
       "      <td>10/1/2017 2:13</td>\n",
       "      <td>1050</td>\n",
       "      <td>9645</td>\n",
       "      <td>246</td>\n",
       "      <td>1</td>\n",
       "      <td>Right</td>\n",
       "      <td>0</td>\n",
       "      <td>1</td>\n",
       "      <td>RightTroll</td>\n",
       "    </tr>\n",
       "    <tr>\n",
       "      <th>5</th>\n",
       "      <td>9.060000e+17</td>\n",
       "      <td>10_GOP</td>\n",
       "      <td>Dan Bongino: \"Nobody trolls liberals better th...</td>\n",
       "      <td>Unknown</td>\n",
       "      <td>English</td>\n",
       "      <td>2017-10-01 02:47:00</td>\n",
       "      <td>10/1/2017 2:47</td>\n",
       "      <td>1050</td>\n",
       "      <td>9644</td>\n",
       "      <td>247</td>\n",
       "      <td>0</td>\n",
       "      <td>Right</td>\n",
       "      <td>0</td>\n",
       "      <td>0</td>\n",
       "      <td>RightTroll</td>\n",
       "    </tr>\n",
       "    <tr>\n",
       "      <th>6</th>\n",
       "      <td>9.060000e+17</td>\n",
       "      <td>10_GOP</td>\n",
       "      <td>🐝🐝🐝 https://t.co/MorL3AQW0z</td>\n",
       "      <td>RETWEET</td>\n",
       "      <td>English</td>\n",
       "      <td>2017-10-01 02:48:00</td>\n",
       "      <td>10/1/2017 2:48</td>\n",
       "      <td>1050</td>\n",
       "      <td>9644</td>\n",
       "      <td>248</td>\n",
       "      <td>1</td>\n",
       "      <td>Right</td>\n",
       "      <td>0</td>\n",
       "      <td>1</td>\n",
       "      <td>RightTroll</td>\n",
       "    </tr>\n",
       "    <tr>\n",
       "      <th>7</th>\n",
       "      <td>9.060000e+17</td>\n",
       "      <td>10_GOP</td>\n",
       "      <td>'@SenatorMenendez @CarmenYulinCruz Doesn't mat...</td>\n",
       "      <td>Unknown</td>\n",
       "      <td>English</td>\n",
       "      <td>2017-10-01 02:52:00</td>\n",
       "      <td>10/1/2017 2:53</td>\n",
       "      <td>1050</td>\n",
       "      <td>9644</td>\n",
       "      <td>249</td>\n",
       "      <td>0</td>\n",
       "      <td>Right</td>\n",
       "      <td>0</td>\n",
       "      <td>0</td>\n",
       "      <td>RightTroll</td>\n",
       "    </tr>\n",
       "    <tr>\n",
       "      <th>8</th>\n",
       "      <td>9.060000e+17</td>\n",
       "      <td>10_GOP</td>\n",
       "      <td>As much as I hate promoting CNN article, here ...</td>\n",
       "      <td>Unknown</td>\n",
       "      <td>English</td>\n",
       "      <td>2017-10-01 03:47:00</td>\n",
       "      <td>10/1/2017 3:47</td>\n",
       "      <td>1050</td>\n",
       "      <td>9646</td>\n",
       "      <td>250</td>\n",
       "      <td>0</td>\n",
       "      <td>Right</td>\n",
       "      <td>0</td>\n",
       "      <td>0</td>\n",
       "      <td>RightTroll</td>\n",
       "    </tr>\n",
       "    <tr>\n",
       "      <th>9</th>\n",
       "      <td>9.060000e+17</td>\n",
       "      <td>10_GOP</td>\n",
       "      <td>After the 'genocide' remark from San Juan Mayo...</td>\n",
       "      <td>Unknown</td>\n",
       "      <td>English</td>\n",
       "      <td>2017-10-01 03:51:00</td>\n",
       "      <td>10/1/2017 3:51</td>\n",
       "      <td>1050</td>\n",
       "      <td>9646</td>\n",
       "      <td>251</td>\n",
       "      <td>0</td>\n",
       "      <td>Right</td>\n",
       "      <td>0</td>\n",
       "      <td>0</td>\n",
       "      <td>RightTroll</td>\n",
       "    </tr>\n",
       "  </tbody>\n",
       "</table>\n",
       "</div>"
      ],
      "text/plain": [
       "   external_author_id  author  \\\n",
       "0        9.060000e+17  10_GOP   \n",
       "1        9.060000e+17  10_GOP   \n",
       "2        9.060000e+17  10_GOP   \n",
       "3        9.060000e+17  10_GOP   \n",
       "4        9.060000e+17  10_GOP   \n",
       "5        9.060000e+17  10_GOP   \n",
       "6        9.060000e+17  10_GOP   \n",
       "7        9.060000e+17  10_GOP   \n",
       "8        9.060000e+17  10_GOP   \n",
       "9        9.060000e+17  10_GOP   \n",
       "\n",
       "                                             content   region language  \\\n",
       "0  \"We have a sitting Democrat US Senator on tria...  Unknown  English   \n",
       "1  Marshawn Lynch arrives to game in anti-Trump s...  Unknown  English   \n",
       "2  Daughter of fallen Navy Sailor delivers powerf...  RETWEET  English   \n",
       "3  JUST IN: President Trump dedicates Presidents ...  Unknown  English   \n",
       "4  19,000 RESPECTING our National Anthem! #StandF...  RETWEET  English   \n",
       "5  Dan Bongino: \"Nobody trolls liberals better th...  Unknown  English   \n",
       "6                        🐝🐝🐝 https://t.co/MorL3AQW0z  RETWEET  English   \n",
       "7  '@SenatorMenendez @CarmenYulinCruz Doesn't mat...  Unknown  English   \n",
       "8  As much as I hate promoting CNN article, here ...  Unknown  English   \n",
       "9  After the 'genocide' remark from San Juan Mayo...  Unknown  English   \n",
       "\n",
       "         publish_date   harvested_date  following  followers  updates  \\\n",
       "0 2017-10-01 19:58:00  10/1/2017 19:59       1052       9636      253   \n",
       "1 2017-10-01 22:43:00  10/1/2017 22:43       1054       9637      254   \n",
       "2 2017-10-01 22:50:00  10/1/2017 22:51       1054       9637      255   \n",
       "3 2017-10-01 23:52:00  10/1/2017 23:52       1062       9642      256   \n",
       "4 2017-10-01 02:13:00   10/1/2017 2:13       1050       9645      246   \n",
       "5 2017-10-01 02:47:00   10/1/2017 2:47       1050       9644      247   \n",
       "6 2017-10-01 02:48:00   10/1/2017 2:48       1050       9644      248   \n",
       "7 2017-10-01 02:52:00   10/1/2017 2:53       1050       9644      249   \n",
       "8 2017-10-01 03:47:00   10/1/2017 3:47       1050       9646      250   \n",
       "9 2017-10-01 03:51:00   10/1/2017 3:51       1050       9646      251   \n",
       "\n",
       "  post_type account_type  new_june_2018  retweet account_category  \n",
       "0         0        Right              0        0       RightTroll  \n",
       "1         0        Right              0        0       RightTroll  \n",
       "2         1        Right              0        1       RightTroll  \n",
       "3         0        Right              0        0       RightTroll  \n",
       "4         1        Right              0        1       RightTroll  \n",
       "5         0        Right              0        0       RightTroll  \n",
       "6         1        Right              0        1       RightTroll  \n",
       "7         0        Right              0        0       RightTroll  \n",
       "8         0        Right              0        0       RightTroll  \n",
       "9         0        Right              0        0       RightTroll  "
      ]
     },
     "execution_count": 8,
     "metadata": {},
     "output_type": "execute_result"
    }
   ],
   "source": [
    "#Get rid of some columns that aren't really relevant to analysis\n",
    "raw_data.drop(['harvested_date', 'new_june_2018'], axis=1)\n",
    "\n",
    "#Turn Post_Type binary\n",
    "raw_data.post_type.replace(['RETWEET'], [1], inplace=True)\n",
    "raw_data['post_type'] = raw_data.post_type.fillna(0)\n",
    "\n",
    "\n",
    "raw_data.head(10)"
   ]
  },
  {
   "cell_type": "code",
   "execution_count": 9,
   "metadata": {},
   "outputs": [
    {
     "data": {
      "text/plain": [
       "\" I will work on this later converting the values to numbers for further analysis\\n# Create a list of possible answers\\naccount_type_list = list(raw_data.account_type.unique())\\n\\n# Create the key for the list\\naccount_type_key = list(range(len(account_type_list)))\\n\\n# Create the dictionary and insert the dictionary into our dataframe\\naccount_type_dict = dict(list(zip(account_type_list, account_type_key)))\\n\\nraw_data['variety'] = raw_data['variety'].replace(variety_dict)\\n\\n# Print out the dictionary so we can understand what the computer is thinking\\nprint(account_type_dict)\""
      ]
     },
     "execution_count": 9,
     "metadata": {},
     "output_type": "execute_result"
    }
   ],
   "source": [
    "\"\"\" I will work on this later converting the values to numbers for further analysis\n",
    "# Create a list of possible answers\n",
    "account_type_list = list(raw_data.account_type.unique())\n",
    "\n",
    "# Create the key for the list\n",
    "account_type_key = list(range(len(account_type_list)))\n",
    "\n",
    "# Create the dictionary and insert the dictionary into our dataframe\n",
    "account_type_dict = dict(list(zip(account_type_list, account_type_key)))\n",
    "\n",
    "raw_data['variety'] = raw_data['variety'].replace(variety_dict)\n",
    "\n",
    "# Print out the dictionary so we can understand what the computer is thinking\n",
    "print(account_type_dict)\"\"\""
   ]
  },
  {
   "cell_type": "markdown",
   "metadata": {},
   "source": [
    "## Prepare for Testing\n"
   ]
  },
  {
   "cell_type": "markdown",
   "metadata": {},
   "source": [
    "Now, let's prep the descriptions for analysis first by cleaning out some of the punctuation."
   ]
  },
  {
   "cell_type": "code",
   "execution_count": 10,
   "metadata": {},
   "outputs": [
    {
     "data": {
      "text/html": [
       "<div>\n",
       "<style>\n",
       "    .dataframe thead tr:only-child th {\n",
       "        text-align: right;\n",
       "    }\n",
       "\n",
       "    .dataframe thead th {\n",
       "        text-align: left;\n",
       "    }\n",
       "\n",
       "    .dataframe tbody tr th {\n",
       "        vertical-align: top;\n",
       "    }\n",
       "</style>\n",
       "<table border=\"1\" class=\"dataframe\">\n",
       "  <thead>\n",
       "    <tr style=\"text-align: right;\">\n",
       "      <th></th>\n",
       "      <th>author</th>\n",
       "      <th>content</th>\n",
       "    </tr>\n",
       "  </thead>\n",
       "  <tbody>\n",
       "    <tr>\n",
       "      <th>0</th>\n",
       "      <td>10_GOP</td>\n",
       "      <td>\"We have a sitting Democrat US Senator on tria...</td>\n",
       "    </tr>\n",
       "    <tr>\n",
       "      <th>1</th>\n",
       "      <td>10_GOP</td>\n",
       "      <td>Marshawn Lynch arrives to game in anti-Trump s...</td>\n",
       "    </tr>\n",
       "    <tr>\n",
       "      <th>2</th>\n",
       "      <td>10_GOP</td>\n",
       "      <td>Daughter of fallen Navy Sailor delivers powerf...</td>\n",
       "    </tr>\n",
       "    <tr>\n",
       "      <th>3</th>\n",
       "      <td>10_GOP</td>\n",
       "      <td>JUST IN: President Trump dedicates Presidents ...</td>\n",
       "    </tr>\n",
       "    <tr>\n",
       "      <th>4</th>\n",
       "      <td>10_GOP</td>\n",
       "      <td>19,000 RESPECTING our National Anthem! #StandF...</td>\n",
       "    </tr>\n",
       "    <tr>\n",
       "      <th>5</th>\n",
       "      <td>10_GOP</td>\n",
       "      <td>Dan Bongino: \"Nobody trolls liberals better th...</td>\n",
       "    </tr>\n",
       "    <tr>\n",
       "      <th>6</th>\n",
       "      <td>10_GOP</td>\n",
       "      <td>🐝🐝🐝 https://t.co/MorL3AQW0z</td>\n",
       "    </tr>\n",
       "    <tr>\n",
       "      <th>7</th>\n",
       "      <td>10_GOP</td>\n",
       "      <td>'@SenatorMenendez @CarmenYulinCruz Doesn't mat...</td>\n",
       "    </tr>\n",
       "    <tr>\n",
       "      <th>8</th>\n",
       "      <td>10_GOP</td>\n",
       "      <td>As much as I hate promoting CNN article, here ...</td>\n",
       "    </tr>\n",
       "    <tr>\n",
       "      <th>9</th>\n",
       "      <td>10_GOP</td>\n",
       "      <td>After the 'genocide' remark from San Juan Mayo...</td>\n",
       "    </tr>\n",
       "  </tbody>\n",
       "</table>\n",
       "</div>"
      ],
      "text/plain": [
       "   author                                            content\n",
       "0  10_GOP  \"We have a sitting Democrat US Senator on tria...\n",
       "1  10_GOP  Marshawn Lynch arrives to game in anti-Trump s...\n",
       "2  10_GOP  Daughter of fallen Navy Sailor delivers powerf...\n",
       "3  10_GOP  JUST IN: President Trump dedicates Presidents ...\n",
       "4  10_GOP  19,000 RESPECTING our National Anthem! #StandF...\n",
       "5  10_GOP  Dan Bongino: \"Nobody trolls liberals better th...\n",
       "6  10_GOP                        🐝🐝🐝 https://t.co/MorL3AQW0z\n",
       "7  10_GOP  '@SenatorMenendez @CarmenYulinCruz Doesn't mat...\n",
       "8  10_GOP  As much as I hate promoting CNN article, here ...\n",
       "9  10_GOP  After the 'genocide' remark from San Juan Mayo..."
      ]
     },
     "execution_count": 10,
     "metadata": {},
     "output_type": "execute_result"
    }
   ],
   "source": [
    "test_df = raw_data[raw_data.language == 'English']\n",
    "test_df = test_df[['author', 'content']]\n",
    "test_df.head(10)"
   ]
  },
  {
   "cell_type": "code",
   "execution_count": 11,
   "metadata": {},
   "outputs": [
    {
     "name": "stdout",
     "output_type": "stream",
     "text": [
      "AMELIEBALDWIN      34416\n",
      "ARM_2_ALAN         14530\n",
      "BIZGOD             12079\n",
      "BATONROUGEVOICE    10746\n",
      "BALTIMORE0NLINE    10322\n",
      "ANTONHAYHAY        10240\n",
      "BLEEPTHEPOLICE      9275\n",
      "ANDYHASHTAGGER      9131\n",
      "ATLANTA_ONLINE      8489\n",
      "ALECMOOOOODY        8310\n",
      "ADNNELSTR           6362\n",
      "BLACKTOLIVE         6183\n",
      "ACEJINEV            6134\n",
      "BAOBAEHAM           6054\n",
      "ANIIANTRS           5486\n",
      "4MYSQUAD            4780\n",
      "BIGSEANBEAST        4529\n",
      "BEEBCLAPTT          4442\n",
      "BGARNER2107         4426\n",
      "AMANDAVGREEN        4233\n",
      "BLACKMATTERSUS      4129\n",
      "BLMSOLDIER          3543\n",
      "ALDRICH420          3481\n",
      "ALEXXDRTRR          3266\n",
      "BABYJANNYMEOW       3205\n",
      "AIDEN7757           3069\n",
      "AMBERLINETR         3008\n",
      "ANNIEPOSHES         2976\n",
      "ALBUQUERQUEON       2823\n",
      "ADRIENNE_GG         2810\n",
      "                   ...  \n",
      "BEZUMOVALYUDA          1\n",
      "ANWARGAFUR             1\n",
      "ANYA_ISA1282           1\n",
      "ANJELICAFAMOUS         1\n",
      "ALWAYSHUNGRYBAE        1\n",
      "ABALAKOVAYLIA          1\n",
      "ANNA_VYSOKAYA          1\n",
      "ALTMANCOON             1\n",
      "BEAUTYUSER             1\n",
      "5EMEN5EMENICH          1\n",
      "ALENAZELDINA           1\n",
      "ANGELIKOROTKOVA        1\n",
      "BECHTEREVMIH           1\n",
      "ANETTANOVGOROD         1\n",
      "ANDRY_VOLK             1\n",
      "AH_VERONIKI            1\n",
      "BAZHINVAZHEN           1\n",
      "BEGI_BEGUNOVA          1\n",
      "BELKADASHECHKA         1\n",
      "BEKKOSV                1\n",
      "ANGELINALADOVA         1\n",
      "ALISA_FRATKINA         1\n",
      "5L5_5L5                1\n",
      "ANGELINADARCY_         1\n",
      "ANGELABACH991          1\n",
      "ARTEMMPLOTNIKOV        1\n",
      "ALINALINKI_            1\n",
      "ANORAVERD              1\n",
      "ASYAARRIVE             1\n",
      "BLACKTIVISTDAVE        1\n",
      "Name: author_counts, Length: 354, dtype: int64\n"
     ]
    }
   ],
   "source": [
    "# Getting rid of authors that haven't published more than a certain number of tweets\n",
    "author_counts = test_df['author'].value_counts().rename('author_counts')\n",
    "print(author_counts)\n",
    "# Attach the counts to the dataframe\n",
    "test_df = test_df.merge(author_counts.to_frame(),\n",
    "                                left_on='author', right_index=True)\n",
    "\n",
    "# Set the threshold and get rid of the counts category\n",
    "test_df = test_df[test_df['author_counts'] > 10000]\n",
    "test_df = test_df.drop(['author_counts'], axis=1)"
   ]
  },
  {
   "cell_type": "code",
   "execution_count": 12,
   "metadata": {},
   "outputs": [
    {
     "name": "stdout",
     "output_type": "stream",
     "text": [
      "{'10_GOP': 0, '1488REASONS': 1, '1D_NICOLE_': 2, '1ERIK_LEE': 3, '1LORENAFAVA1': 4, '2NDHALFONION': 5, '459JISALGE': 6, '4EVER1937': 7, '4EVER_SUSAN': 8, '4MYSQUAD': 9, '5EMEN5EMENICH': 10, '5L5_5L5': 11, '666STEVEROGERS': 12, '6DRUZ': 13, '71BILALJAMIL1': 14, 'AAASSSSSHHH': 15, 'AAATEST1234': 16, 'AAAVADAKEDAVRAA': 17, 'AAGN1AA': 18, 'AANTIRACIST': 19, 'AARONALLENALL': 20, 'AARON_M1TCHELL': 21, 'ABALAKOVAYLIA': 22, 'ABBASSHUKRI': 23, 'ABBYLOPTRT': 24, 'ABELLABAB': 25, 'ABIGAILCALLME': 26, 'ABIGAILSSILK': 27, 'ABIISSROSB': 28, 'ABISADMASST': 29, 'ABMERRLINS': 30, 'ABOUTPOLIT': 31, 'ABRAMSREBEKAH': 32, 'ABUNUWASA': 33, 'ABU_UBAIDA2': 34, 'ACAB_ZONE': 35, 'ACAPARELLA': 36, 'ACEJINEV': 37, 'ACHSAHORKHAN': 38, 'ACTIVEMIKR': 39, 'ADALESTRTM': 40, 'ADAMCHAPMANJR': 41, 'ADAMMA_DEFOND': 42, 'ADAM_MATHISSS': 43, 'ADDIE_HOL': 44, 'ADELE_BROCK': 45, 'ADELIINESTRT': 46, 'ADELINE_GS': 47, 'ADELISTRTT': 48, 'ADKEZLATE': 49, 'ADLEESTTT': 50, 'ADLEESWOD': 51, 'ADNNELSTR': 52, 'ADRGREERR': 53, 'ADRIANAMFTTT': 54, 'ADRIASNSS': 55, 'ADRIENNE_GG': 56, 'ADRI_LOW_R': 57, 'AESPARZZA': 58, 'AFEELIUTR': 59, 'AFIFYAMIRA1': 60, 'AFONIA_ZHILCOV': 61, 'AFONINMIXAIL': 62, 'AFRICAVSERDCE': 63, 'AFUCKINSIDE': 64, 'AGAFONME': 65, 'AGAINUKRFAKE': 66, 'AGATA_ALEXEEVA': 67, 'AGITPOLK': 68, 'AGNESGRHM': 69, 'AGNESMLTRT': 70, 'AGNESSTRYT': 71, 'AHMADHUSSEINII': 72, 'AHMADRADJAB': 73, 'AHMADYOUSEF23': 74, 'AHMADYUSUFF03': 75, 'AHMANSOUR91061': 76, 'AHNORDYK': 77, 'AHOGAN_AM': 78, 'AH_VERONIKI': 79, 'AIDEN7757': 80, 'AKOROMYSLOVA': 81, 'ALANISSTRS': 82, 'ALAXXATR': 83, 'ALAXXATRT': 84, 'ALBELITATRTS': 85, 'ALBERTA_HAYNESS': 86, 'ALBERTMORENMORE': 87, 'ALBUQUERQUEON': 88, 'ALDRICH420': 89, 'ALECMOOOOODY': 90, 'ALEESATRS': 91, 'ALEKSANISIMOF': 92, 'ALEKSEY_SOKOL_': 93, 'ALEMICHLESS': 94, 'ALENAZELDINA': 95, 'ALESISTRTT': 96, 'ALESSIAWILLSON': 97, 'ALEXBORONIN': 98, 'ALEXHARRITONOV': 99, 'ALEXISFOXIE': 100, 'ALEXLOVESSHENNA': 101, 'ALEXMMYER': 102, 'ALEXSVLADIMIROV': 103, 'ALEXWARNINGU': 104, 'ALEXXBELYAEV': 105, 'ALEXXDRTRR': 106, 'ALEX_DUGIN': 107, 'ALEX___ANT': 108, 'ALFNEWDAY': 109, 'ALFREDBENBEN': 110, 'ALFREDTHREE': 111, 'ALI27HUSSEIN': 112, 'ALIDANILOVSKAYA': 113, 'ALIISTRR': 114, 'ALINAANTONCHIK': 115, 'ALINALINKI_': 116, 'ALINANOVIKOV022': 117, 'ALINAVIATKOVA': 118, 'ALINA_9_1': 119, 'ALISA_FRATKINA': 120, 'ALISONDAVOL': 121, 'ALIZASSHIELD': 122, 'ALLAHOMORE': 123, 'ALLBERRTOSS': 124, 'ALLFORPETERSONS': 125, 'ALMOSTSAINTGIRL': 126, 'ALODOY': 127, 'ALTMANBELINDA': 128, 'ALTMANCOON': 129, 'ALVA_MC_GHEE': 130, 'ALWAYSHUNGRYBAE': 131, 'ALW_ILL': 132, 'ALYSSABEDOLLA': 133, 'AMALIAHULICK': 134, 'AMALIA_PETTY': 135, 'AMAMCAMCAM': 136, 'AMANDAVGREEN': 137, 'AMBAASTRT': 138, 'AMBBERTHTT': 139, 'AMBERDAVV': 140, 'AMBERLINETR': 141, 'AMBERRPAR': 142, 'AMCONVOICE': 143, 'AMELCREECH': 144, 'AMELIEBALDWIN': 145, 'AMELINAASTR': 146, 'AMERICANALBERT': 147, 'AMIISTRS': 148, 'AMIRAFERRR': 149, 'AMIRAHPOPE': 150, 'AMIRICANWILL': 151, 'AMIYAHSAMUELS': 152, 'AMYGRABMYESSAY': 153, 'AMYMUSICLL': 154, 'AMYYSLEGENTR': 155, 'AMYYSSTS': 156, 'AMYYTHOSSMA': 157, 'ANAAISLEC': 158, 'ANAALESSIS': 159, 'ANASTASIAR777': 160, 'ANASTASSIAZZ': 161, 'ANASTASSITR': 162, 'ANATOLINEMCOV': 163, 'ANATOLRMNFF': 164, 'ANBIVALENTNAYA': 165, 'ANCARICTRS': 166, 'ANDEERLWR': 167, 'ANDEYNESTEROV': 168, 'ANDIOSMARRTRUMP': 169, 'ANDREASEULITZ': 170, 'ANDREBAKIN': 171, 'ANDREBEAULEGER': 172, 'ANDREJFROLOV69': 173, 'ANDREWHEDDD': 174, 'ANDREYYKONDRAT1': 175, 'ANDREY_LISCHINA': 176, 'ANDRISNABRT': 177, 'ANDRIYCCCP': 178, 'ANDROFAG': 179, 'ANDRREETRT': 180, 'ANDRUNINVANYA': 181, 'ANDRYNAUMOV': 182, 'ANDRY_VOLK': 183, 'ANDSBXX30': 184, 'ANDYDREWDANIELS': 185, 'ANDYHASHTAGGER': 186, 'ANDY_PUCHINSKYI': 187, 'ANEELSSTRT': 188, 'ANETTANOVGOROD': 189, 'ANFINRUDSADIE': 190, 'ANFISAMICKEY': 191, 'ANFRAIZER': 192, 'ANGEELISHET': 193, 'ANGEELISTR': 194, 'ANGELABACH991': 195, 'ANGELA_LATTKE': 196, 'ANGELIKAMUSI': 197, 'ANGELIKOROTKOVA': 198, 'ANGELINADARCY_': 199, 'ANGELINALADOVA': 200, 'ANGELISTRR': 201, 'ANGELITHSS': 202, 'ANGELOENOUGH': 203, 'ANGISDOOYL': 204, 'ANGTHEESTR': 205, 'ANG__BOWERS': 206, 'ANIIANTRS': 207, 'ANISACRRUTR': 208, 'ANISILOPE': 209, 'ANISSNOVOTR': 210, 'ANITABR1994': 211, 'ANITALOVEHEART': 212, 'ANJELICAFAMOUS': 213, 'ANKIDINOVAKIRA': 214, 'ANN1EMCCONNELL': 215, 'ANNABEZGUZIKOVA': 216, 'ANNAMARFINA': 217, 'ANNAMINGT': 218, 'ANNAROMAN0': 219, 'ANNA_VYSOKAYA': 220, 'ANNETTETEAL1': 221, 'ANNIEISBEAR': 222, 'ANNIEPOSHES': 223, 'ANNIJONSTR': 224, 'ANNSAM_SAM': 225, 'ANNY_DUBI': 226, 'ANN_HANAH': 227, 'ANN__BOGDANOVA': 228, 'ANORAVERD': 229, 'ANOSSOVV': 230, 'ANTHONYCANLASS': 231, 'ANTHONYCARTR': 232, 'ANTHONYWOODBOY': 233, 'ANTIEHARMON': 234, 'ANTONFROMSPB': 235, 'ANTONHAYHAY': 236, 'ANTONINAPERVAY': 237, 'ANTONOVMENMENCO': 238, 'ANTONRUMSS': 239, 'ANTOSHAKARGIN': 240, 'ANTYSHEVALIDA': 241, 'ANWARGAFUR': 242, 'ANWARJAMIL22': 243, 'ANYA_ISA1282': 244, 'ANZGRI': 245, 'AN_NA__AN': 246, 'AN_N_GASTON': 247, 'APRIILDTRUT': 248, 'APRRILSBRUSS': 249, 'APUHNA': 250, 'ARABMTR': 251, 'ARAGARTRR': 252, 'ARCHIEOLIVERS': 253, 'ARESTOVEVG': 254, 'ARGENTINACATLE1': 255, 'ARIAANST': 256, 'ARIANNA_PER_RY': 257, 'ARIEENSLPE': 258, 'ARIELLE_BROWNIN': 259, 'ARIELSHINING': 260, 'ARINA_RONDAL': 261, 'ARISGRAYS': 262, 'ARKADII_TROFIM': 263, 'ARKADSHIHKIN': 264, 'ARKHIPOVICHIVNA': 265, 'ARKHIPOVTIOVEOF': 266, 'ARMEDFREJYA': 267, 'ARM_2_ALAN': 268, 'ARNOLDPARRK': 269, 'ARONHOLDEN8': 270, 'ARONS_KWENDE': 271, 'ARSENI_ROMAN': 272, 'ARTAUTUMN': 273, 'ARTEMBOGACHENKO': 274, 'ARTEMMPLOTNIKOV': 275, 'ARTEMSSFE': 276, 'ARTEM_POLISHHUK': 277, 'ARTHCLAUDIA': 278, 'ARTKORCHUNOV': 279, 'ARTURBURANOF': 280, 'ARTUR__2014': 281, 'ARTYRTOLSTOV': 282, 'ARYANNAJ0NES': 283, 'ARZHANOVAAA': 284, 'ASDIQARUSSIYA': 285, 'ASHLEECOLLINSS': 286, 'ASHLEEYWES': 287, 'ASHLEYSIMPSN': 288, 'ASHLEY_KRI': 289, 'ASSUNCAOWALLAS': 290, 'ASWWIMMORRIS': 291, 'ASYAARRIVE': 292, 'ATIF_SHAIKH_ME': 293, 'ATLANTA_ONLINE': 294, 'ATULSCARPA': 295, 'AURRLISTR': 296, 'AUSTINLOVESBEER': 297, 'AU_NORTON': 298, 'AVEERTEST': 299, 'AVEREGEANNA': 300, 'AVIAPRES': 301, 'AVRYLSTEWART': 302, 'AYANNA__0': 303, 'AYDENBOSTON': 304, 'AYLEENSCLAR': 305, 'AZIIZ_HADITH': 306, 'AZUUMARSS': 307, 'BAAILST': 308, 'BABCHENKOVA': 309, 'BABCHENKOVA_EVA': 310, 'BABICHEVASONYA': 311, 'BABYJANNYMEOW': 312, 'BACONTONIA': 313, 'BADAEVVIKTOR': 314, 'BADR_EARABI': 315, 'BAKINGBEKKER': 316, 'BALASIKAVOW': 317, 'BALLDOMER': 318, 'BALLLLWALT': 319, 'BALTIMORE0NLINE': 320, 'BAMBISMUT': 321, 'BAMMBJOLTR': 322, 'BANNOVAMARI': 323, 'BANTTANANTTA': 324, 'BAOBAEHAM': 325, 'BARABASHV2': 326, 'BARBARAFORTRUMP': 327, 'BARBARAMEER': 328, 'BARBIELEWISS': 329, 'BARELYBARBOZA': 330, 'BARELY_KIM': 331, 'BARRLAUTRS': 332, 'BARRY_MILL': 333, 'BATAEEV': 334, 'BATASHEVSEREGA': 335, 'BATMAN_BANE': 336, 'BATONROUGEVOICE': 337, 'BAUMAN_OFF': 338, 'BAYOFTAMARA': 339, 'BAZHINVAZHEN': 340, 'BBHELGESON': 341, 'BEAUTYMERCELA': 342, 'BEAUTYUSER': 343, 'BECCYWILL': 344, 'BECHTEREVMIH': 345, 'BECKRALFBECK265': 346, 'BEDOVVITALIY': 347, 'BEEATRWL': 348, 'BEEBCLAPTT': 349, 'BEELLASTRTT': 350, 'BEETTYBECKS': 351, 'BEGAYEVANGELINE': 352, 'BEGI_BEGUNOVA': 353, 'BEINGSWARTZ': 354, 'BEKKOSV': 355, 'BEKOSV': 356, 'BELBELLOC': 357, 'BELIKOVA_LOVE': 358, 'BELINDA_BOURG': 359, 'BELKADASHECHKA': 360, 'BELOZEROVNIKIT': 361, 'BENDER_MEL': 362, 'BENJAMINBALLL': 363, 'BENJIALYSSA': 364, 'BENNEDICT_KL': 365, 'BEN_SAR_GENT': 366, 'BEREHAYYTR': 367, 'BEREZINLECURACE': 368, 'BERGERJAMIE75': 369, 'BERKHOFF85': 370, 'BERLINBOTE': 371, 'BERNDHOFER6001': 372, 'BERNIEDDDD': 373, 'BERRNICTRR': 374, 'BERTHADAVIDSON_': 375, 'BERT_HENLEY': 376, 'BESSIECOOKSYOU': 377, 'BETTERTHANYOU_U': 378, 'BETTIEEVANZ': 379, 'BEVERLYBALSOM': 380, 'BEZUMOVALYUDA': 381, 'BE_BRUTA_L': 382, 'BGARNER2107': 383, 'BIAANCLEESS': 384, 'BIBAHACH': 385, 'BIGBOYJASIAH': 386, 'BIGBOYSNEED': 387, 'BIGSEANBEAST': 388, 'BILAAL_RAIS': 389, 'BILLMCINTOSHH': 390, 'BISHOLORINE': 391, 'BIZGOD': 392, 'BIZYKOVAANITA': 393, 'BLACK4UNITY': 394, 'BLACKERTHEBERR5': 395, 'BLACKEYEBLOG': 396, 'BLACKGIRLS2017': 397, 'BLACKJACKWEINER': 398, 'BLACKMATTERSUS': 399, 'BLACKNEWSOUTLET': 400, 'BLACKPANTHER_TX': 401, 'BLACKTIVISTDAVE': 402, 'BLACKTIVISTS': 403, 'BLACKTIVISTSUS': 404, 'BLACKTOLIVE': 405, 'BLACKUNITYMARCH': 406, 'BLACKYCLEVELAND': 407, 'BLACK_ELEVATION': 408, 'BLACNEIGHBOR': 409, 'BLADNAVALNY': 410, 'BLAKERIVERAI': 411, 'BLAMEYOURRSELF': 412, 'BLANDERSHOF': 413, 'BLEEPTHEPOLICE': 414, 'BLINOVAEXININTA': 415, 'BLK_VOICE': 416, 'BLMSOLDIER': 417}\n"
     ]
    }
   ],
   "source": [
    "# Create a list of possible answers\n",
    "author_list = list(raw_data.author.unique())\n",
    "\n",
    "# Create the key for the list\n",
    "author_key = list(range(len(author_list)))\n",
    "\n",
    "# Create the dictionary and insert the dictionary into our dataframe\n",
    "author_dict = dict(list(zip(author_list, author_key)))\n",
    "\n",
    "test_df['author'] = test_df['author'].replace(author_dict)\n",
    "\n",
    "# Print out the dictionary so we can understand what the computer is thinking\n",
    "print(author_dict)"
   ]
  },
  {
   "cell_type": "code",
   "execution_count": 13,
   "metadata": {},
   "outputs": [
    {
     "data": {
      "text/html": [
       "<div>\n",
       "<style>\n",
       "    .dataframe thead tr:only-child th {\n",
       "        text-align: right;\n",
       "    }\n",
       "\n",
       "    .dataframe thead th {\n",
       "        text-align: left;\n",
       "    }\n",
       "\n",
       "    .dataframe tbody tr th {\n",
       "        vertical-align: top;\n",
       "    }\n",
       "</style>\n",
       "<table border=\"1\" class=\"dataframe\">\n",
       "  <thead>\n",
       "    <tr style=\"text-align: right;\">\n",
       "      <th></th>\n",
       "      <th>author</th>\n",
       "      <th>content</th>\n",
       "    </tr>\n",
       "  </thead>\n",
       "  <tbody>\n",
       "    <tr>\n",
       "      <th>95228</th>\n",
       "      <td>145</td>\n",
       "      <td>#pos #anisamri ,the terrorist that killed 12 p...</td>\n",
       "    </tr>\n",
       "    <tr>\n",
       "      <th>95229</th>\n",
       "      <td>145</td>\n",
       "      <td>join us live online! saturdays \\| 5 &amp;amp; 6:30...</td>\n",
       "    </tr>\n",
       "    <tr>\n",
       "      <th>95230</th>\n",
       "      <td>145</td>\n",
       "      <td>'@pmbeers here's the thing, if i were to impor...</td>\n",
       "    </tr>\n",
       "    <tr>\n",
       "      <th>95231</th>\n",
       "      <td>145</td>\n",
       "      <td>'@cda the issue has nothing to do with png. it...</td>\n",
       "    </tr>\n",
       "    <tr>\n",
       "      <th>95232</th>\n",
       "      <td>145</td>\n",
       "      <td>#bestmemoriesof2016 every person who got invol...</td>\n",
       "    </tr>\n",
       "    <tr>\n",
       "      <th>95233</th>\n",
       "      <td>145</td>\n",
       "      <td>hitman sniper #hitmansniper #now #gamers #andr...</td>\n",
       "    </tr>\n",
       "    <tr>\n",
       "      <th>95234</th>\n",
       "      <td>145</td>\n",
       "      <td>#hacked : https://t.co/y9ryl2qf2g obama strike...</td>\n",
       "    </tr>\n",
       "    <tr>\n",
       "      <th>95235</th>\n",
       "      <td>145</td>\n",
       "      <td>boycott the \"halal\" sticker on meat and poultr...</td>\n",
       "    </tr>\n",
       "    <tr>\n",
       "      <th>95236</th>\n",
       "      <td>145</td>\n",
       "      <td>oh dear did you see this cnn don lemon obvious...</td>\n",
       "    </tr>\n",
       "    <tr>\n",
       "      <th>95237</th>\n",
       "      <td>145</td>\n",
       "      <td>amazing that so many who allegedly oppose big ...</td>\n",
       "    </tr>\n",
       "  </tbody>\n",
       "</table>\n",
       "</div>"
      ],
      "text/plain": [
       "       author                                            content\n",
       "95228     145  #pos #anisamri ,the terrorist that killed 12 p...\n",
       "95229     145  join us live online! saturdays \\| 5 &amp; 6:30...\n",
       "95230     145  '@pmbeers here's the thing, if i were to impor...\n",
       "95231     145  '@cda the issue has nothing to do with png. it...\n",
       "95232     145  #bestmemoriesof2016 every person who got invol...\n",
       "95233     145  hitman sniper #hitmansniper #now #gamers #andr...\n",
       "95234     145  #hacked : https://t.co/y9ryl2qf2g obama strike...\n",
       "95235     145  boycott the \"halal\" sticker on meat and poultr...\n",
       "95236     145  oh dear did you see this cnn don lemon obvious...\n",
       "95237     145  amazing that so many who allegedly oppose big ..."
      ]
     },
     "execution_count": 13,
     "metadata": {},
     "output_type": "execute_result"
    }
   ],
   "source": [
    "# Utility function for standard text cleaning.\n",
    "def text_cleaner(text):\n",
    "    # Visual inspection identifies a form of punctuation spaCy does not\n",
    "    # recognize: the double dash '--'.  Better get rid of it now!\n",
    "    text = re.sub(r'--',' ',text)\n",
    "    text = re.sub(\"[\\[].*?[\\]]\", \"\", text)\n",
    "    text = ' '.join(text.split())\n",
    "    return text\n",
    "test_df['content'] = test_df['content'].str.lower()\n",
    "test_df['content'] = test_df['content'].apply(text_cleaner)\n",
    "test_df.head(10)"
   ]
  },
  {
   "cell_type": "markdown",
   "metadata": {},
   "source": [
    "Let's create a function that will run all of the tests we need with the inputs of test, inputs (X,Y), and method."
   ]
  },
  {
   "cell_type": "code",
   "execution_count": 14,
   "metadata": {
    "collapsed": true
   },
   "outputs": [],
   "source": [
    "#Create a testing function that will fit the test the data.\n",
    "def testing_func(test, models, method):\n",
    "    # This is a local list used to temporarily store scores\n",
    "    scores=[]\n",
    "    # This list serves the For loop below putting the variables in   \n",
    "    for x in models:\n",
    "        #Fitting to Training Data\n",
    "        test.fit(x[0], x[1])\n",
    "        #Training Data Score\n",
    "        scores.append(test.score(x[0], x[1]))\n",
    "        #Test Data Score\n",
    "        scores.append(test.score(x[2], x[3]))\n",
    "        #CV Score\n",
    "        scores.append(np.mean(cross_val_score(test, x[0], x[1], cv=5)))\n",
    "    \n",
    "    # Create a local dataframe to display our results cleanly\n",
    "    local_results_df=pd.DataFrame(scores, columns=['Accuracy'], index=[method])\n",
    "    print(local_results_df)\n",
    " "
   ]
  },
  {
   "cell_type": "markdown",
   "metadata": {},
   "source": [
    "## TF_IDF\n",
    "First, let's use Term Frequency - Inverse Document Frequency (TF-IDF) to break the sentences down into vectors. What this will do is take the number of times a word appears in the tweet and penalize it if it appears in too many tweets by multiplying it by the log (base 2) of the number of documents divided by the frequency of the word in all of the documents. This will result in words that appear in every tweet to be less important (through a lower weighting) when trying to decipher if the word is important for classification. Logically speaking, if a word appears in every sentence, it cannot be that helpful in distinguishing one sentence from another and this is what the machine will need to do to classify the descriptions to the authors."
   ]
  },
  {
   "cell_type": "code",
   "execution_count": 15,
   "metadata": {},
   "outputs": [
    {
     "name": "stdout",
     "output_type": "stream",
     "text": [
      "\n",
      "It took the following time to complete this task: 0:00:07.210476\n"
     ]
    }
   ],
   "source": [
    "start = datetime.now()\n",
    "X = test_df['content']\n",
    "y = test_df['author']\n",
    "#Applying the vectorizer\n",
    "vect2 = TfidfVectorizer(min_df=20, analyzer = 'word', stop_words = 'english', ngram_range = (1,2))\n",
    "X = vect2.fit_transform(X)\n",
    "#splitting into training and test sets\n",
    "X_train_tfidf, X_test_tfidf, y_train2, y_test2= train_test_split(X, y, test_size=0.4, random_state=0)\n",
    "print('\\nIt took the following time to complete this task:', datetime.now() - start)"
   ]
  },
  {
   "cell_type": "markdown",
   "metadata": {},
   "source": [
    "## LSA\n",
    "Now let's use Latent Semantic Analysis (LSA) to improve the model through dimension reduction. This applies Principle Components Analysis (PCA) to the vector matrix."
   ]
  },
  {
   "cell_type": "code",
   "execution_count": 16,
   "metadata": {},
   "outputs": [
    {
     "name": "stdout",
     "output_type": "stream",
     "text": [
      "\n",
      "It took the following time to complete this task: 0:00:05.449808\n"
     ]
    }
   ],
   "source": [
    "start = datetime.now()\n",
    "# Apply Singular Value Decomposition to reduce dimensions without doing mean-center nromalizing. \n",
    "svd= TruncatedSVD(100)\n",
    "lsa = make_pipeline(svd, Normalizer(copy=False))\n",
    "# Run SVD on the training data, then project the training data.\n",
    "X_train_lsa = lsa.fit_transform(X_train_tfidf)\n",
    "X_test_lsa = lsa.fit_transform(X_test_tfidf)\n",
    "print('\\nIt took the following time to complete this task:', datetime.now() - start)"
   ]
  },
  {
   "cell_type": "code",
   "execution_count": 17,
   "metadata": {},
   "outputs": [
    {
     "name": "stdout",
     "output_type": "stream",
     "text": [
      "\n",
      "It took the following time to complete this task: 0:00:12.103633\n"
     ]
    }
   ],
   "source": [
    "start = datetime.now()\n",
    "# Go ahead and create our X variable for unsupervised learning\n",
    "tfidf_X = test_df['content']\n",
    "\n",
    "#Applying the vectorizer\n",
    "vect2 = TfidfVectorizer(min_df=20, analyzer = 'word', stop_words = 'english', ngram_range = (1,2))\n",
    "tfidf_X = vect2.fit_transform(tfidf_X)\n",
    "#Apply SVD for LSA which tends to work better for unsupervised learning techniques like clustering.\n",
    "svd= TruncatedSVD(60)\n",
    "lsa = make_pipeline(svd, Normalizer(copy=False))\n",
    "# Run SVD on the training data, then project the training data.\n",
    "lsa_X = lsa.fit_transform(tfidf_X)\n",
    "variance_explained=svd.explained_variance_ratio_\n",
    "total_variance = variance_explained.sum()\n",
    "print('\\nIt took the following time to complete this task:', datetime.now() - start)"
   ]
  },
  {
   "cell_type": "code",
   "execution_count": 18,
   "metadata": {
    "collapsed": true
   },
   "outputs": [],
   "source": [
    "# Our X,Y for the models\n",
    "models = [[X_train_tfidf, y_train2, X_test_tfidf, y_test2], [X_train_lsa, y_train2, X_test_lsa, y_test2]] \n",
    "\n",
    "# TF_IDF is the method\n",
    "tf_idf_method = ['TF-IDF Training', 'TF-IDF Test', 'TF-IDF Cross Validation', \n",
    "                 'TF-IDF with LSA Training', 'TF-IDF with LSA Test', 'TF-IDF with LSA Cross Validation']\n",
    "\n"
   ]
  },
  {
   "cell_type": "code",
   "execution_count": 19,
   "metadata": {},
   "outputs": [
    {
     "data": {
      "text/plain": [
       "\"# Start with a simple sequential model\\nmodel = Sequential()\\n\\n# Add dense layers to create a fully connected MLP\\n# Note that we specify an input shape for the first layer, but only the first layer.\\n# Relu is the activation function used\\nmodel.add(Dense(128, activation='sigmoid', input_shape=(X_test_tfidf.shape[1],)))\\n# Dropout layers remove features and fight overfitting\\nmodel.add(Dropout(0.1))\\nmodel.add(Dense(128, activation='relu'))\\nmodel.add(Dropout(0.1))\\nmodel.add(Dense(64, activation='relu'))\\nmodel.add(Dropout(0.1))\\n# End with a number of units equal to the number of classes we have for our outcome\\nmodel.add(Dense(1, activation='sigmoid'))\\n\\nmodel.summary()\\nsgd = SGD(lr = 0.1, momentum = 0.9, decay = 0, nesterov = False)\\n# Compile the model to put it all together.\\nmodel.compile(loss='binary_crossentropy',\\n              optimizer=sgd,\\n              metrics=['accuracy'])\""
      ]
     },
     "execution_count": 19,
     "metadata": {},
     "output_type": "execute_result"
    }
   ],
   "source": [
    "# Start with a simple sequential model\n",
    "model = Sequential()\n",
    "\n",
    "# Add dense layers to create a fully connected MLP\n",
    "# Note that we specify an input shape for the first layer, but only the first layer.\n",
    "# Relu is the activation function used\n",
    "model.add(Dense(128, activation='sigmoid', input_shape=(X_test_tfidf.shape[1],)))\n",
    "# Dropout layers remove features and fight overfitting\n",
    "model.add(Dropout(0.1))\n",
    "model.add(Dense(128, activation='relu'))\n",
    "model.add(Dropout(0.1))\n",
    "model.add(Dense(64, activation='relu'))\n",
    "model.add(Dropout(0.1))\n",
    "# End with a number of units equal to the number of classes we have for our outcome\n",
    "model.add(Dense(1, activation='sigmoid'))\n",
    "\n",
    "model.summary()\n",
    "sgd = SGD(lr = 0.1, momentum = 0.9, decay = 0, nesterov = False)\n",
    "# Compile the model to put it all together.\n",
    "model.compile(loss='binary_crossentropy',\n",
    "              optimizer=sgd,\n",
    "              metrics=['accuracy'])"
   ]
  },
  {
   "cell_type": "code",
   "execution_count": 20,
   "metadata": {},
   "outputs": [
    {
     "data": {
      "text/plain": [
       "\"start = datetime.now()\\nhistory = model.fit(X_train_tfidf, y_train2,\\n                    batch_size=64,\\n                    epochs=10,\\n                    verbose=1,\\n                    validation_data=(X_test_tfidf, y_test2))\\nscore = model.evaluate(X_test_tfidf, y_test2, verbose=0)\\nprint('Test loss:', score[0])\\nprint('Test accuracy:', score[1])\\nprint('\\nIt took the following time to complete this task:', datetime.now() - start)\""
      ]
     },
     "execution_count": 20,
     "metadata": {},
     "output_type": "execute_result"
    }
   ],
   "source": [
    "start = datetime.now()\n",
    "history = model.fit(X_train_tfidf, y_train2,\n",
    "                    batch_size=64,\n",
    "                    epochs=10,\n",
    "                    verbose=1,\n",
    "                    validation_data=(X_test_tfidf, y_test2))\n",
    "score = model.evaluate(X_test_tfidf, y_test2, verbose=0)\n",
    "print('Test loss:', score[0])\n",
    "print('Test accuracy:', score[1])\n",
    "print('\\nIt took the following time to complete this task:', datetime.now() - start)"
   ]
  },
  {
   "cell_type": "markdown",
   "metadata": {},
   "source": [
    "### Logistic Regression\n",
    "\n",
    "Logistic Regression is an effective way to work with classification problems like this one by calculating the probabilities of each result and taking a log of the results creating a situation where linear regression can be used where it would otherwise not be possible."
   ]
  },
  {
   "cell_type": "code",
   "execution_count": 21,
   "metadata": {},
   "outputs": [
    {
     "data": {
      "text/plain": [
       "'start = datetime.now()\\n# Try to figure out the best Lambda for Logistic Regression by running the test with the PCA X variable and mapping them out.\\n# Temporary lists to store the results\\nyl = []\\ncl = []\\n\\n# For loop to run the model with different Lambdas represented as L\\nnumb = np.arange(0.1, 2.0, 0.3)\\nfor l in numb:\\n    lr = LogisticRegression(C=l, multi_class=\\'multinomial\\', solver=\\'lbfgs\\')\\n    lr.fit(X_train_tfidf, y_train2)\\n    yl.append(lr.score(X_train_tfidf, y_train2))\\n    cl.append(np.mean(cross_val_score(lr, X_train_tfidf, y_train2, cv=5)))\\n\\n# Plot the results of the accuracy and Cross Validation Score\\nfig = plt.figure()\\nax1 = fig.add_subplot(111)\\nplt.xlabel(\\'Lambda\\')\\nplt.ylabel(\\'Score\\')\\nax1.scatter(x=numb, y=yl, c=\\'b\\', marker=\"s\", label=\\'Score\\')\\nax1.scatter(x=numb, y=cl, s=10, c=\\'r\\', marker=\"^\", label=\\'Cross Validation\\')\\nplt.legend(loc=\\'upper left\\');\\nplt.show()\\nprint(\\'\\nIt took the following time to complete this task:\\', datetime.now() - start)'"
      ]
     },
     "execution_count": 21,
     "metadata": {},
     "output_type": "execute_result"
    }
   ],
   "source": [
    "start = datetime.now()\n",
    "# Try to figure out the best Lambda for Logistic Regression by running the test with the PCA X variable and mapping them out.\n",
    "# Temporary lists to store the results\n",
    "yl = []\n",
    "cl = []\n",
    "\n",
    "# For loop to run the model with different Lambdas represented as L\n",
    "numb = np.arange(0.1, 2.0, 0.3)\n",
    "for l in numb:\n",
    "    lr = LogisticRegression(C=l, multi_class='multinomial', solver='lbfgs')\n",
    "    lr.fit(X_train_tfidf, y_train2)\n",
    "    yl.append(lr.score(X_train_tfidf, y_train2))\n",
    "    cl.append(np.mean(cross_val_score(lr, X_train_tfidf, y_train2, cv=5)))\n",
    "\n",
    "# Plot the results of the accuracy and Cross Validation Score\n",
    "fig = plt.figure()\n",
    "ax1 = fig.add_subplot(111)\n",
    "plt.xlabel('Lambda')\n",
    "plt.ylabel('Score')\n",
    "ax1.scatter(x=numb, y=yl, c='b', marker=\"s\", label='Score')\n",
    "ax1.scatter(x=numb, y=cl, s=10, c='r', marker=\"^\", label='Cross Validation')\n",
    "plt.legend(loc='upper left');\n",
    "plt.show()\n",
    "print('\\nIt took the following time to complete this task:', datetime.now() - start)"
   ]
  },
  {
   "cell_type": "code",
   "execution_count": 22,
   "metadata": {},
   "outputs": [
    {
     "data": {
      "text/plain": [
       "\"start = datetime.now()\\nlr = LogisticRegression(C=1, multi_class='multinomial', solver='lbfgs')\\ntesting_func(lr, models, tf_idf_method)\\nprint('\\nIt took the following time to complete this task:', datetime.now() - start)\""
      ]
     },
     "execution_count": 22,
     "metadata": {},
     "output_type": "execute_result"
    }
   ],
   "source": [
    "start = datetime.now()\n",
    "lr = LogisticRegression(C=1, multi_class='multinomial', solver='lbfgs')\n",
    "testing_func(lr, models, tf_idf_method)\n",
    "print('\\nIt took the following time to complete this task:', datetime.now() - start)"
   ]
  },
  {
   "cell_type": "markdown",
   "metadata": {},
   "source": [
    "### Support Vector Machines\n",
    "\n",
    "SVM uses a multi-dimensional hyperplane to classify based on the regularization parameter (\"C\") and Gamma. A lower C will look for a larger margin hyperplane even if it misclassifies points leading to less overfitting, but potentially lower overall accuracy. Gamma looks at each individual training set point and which ones are considered. A higher gamma means that only close points will be considered while a low gamma means points far away will be considered when determining the hyperplane.\n",
    "\n",
    "Luckily, Grid Search CV exists to assist in the optimization of \"C\" and gamma."
   ]
  },
  {
   "cell_type": "code",
   "execution_count": 23,
   "metadata": {},
   "outputs": [
    {
     "data": {
      "text/plain": [
       "'# SKlearn has a tool that will optimize SVC\\nstart = datetime.now()\\nsvc = LinearSVC(multi_class=\\'ovr\\')\\n# Set the hyperparameters\\nsvcparameters = {\\'C\\':[1,5,8]}\\n# Run it through the tool.\\ngrid = GridSearchCV(svc, svcparameters).fit(X_train_tfidf, y_train2)\\npredicted = grid.predict(X_test_tfidf)\\nprint(\"The best parameters are {} with a score of %{}\".format(grid.best_params_, grid.best_score_))\\n\\n#Put those parameters in a dictionary to call.\\nsvcparameters = grid.best_params_\\n\\nprint(\\'\\nIt took the following time to complete this task:\\', datetime.now() - start)'"
      ]
     },
     "execution_count": 23,
     "metadata": {},
     "output_type": "execute_result"
    }
   ],
   "source": [
    "# SKlearn has a tool that will optimize SVC\n",
    "start = datetime.now()\n",
    "svc = LinearSVC(multi_class='ovr')\n",
    "# Set the hyperparameters\n",
    "svcparameters = {'C':[1,5,8]}\n",
    "# Run it through the tool.\n",
    "grid = GridSearchCV(svc, svcparameters).fit(X_train_tfidf, y_train2)\n",
    "predicted = grid.predict(X_test_tfidf)\n",
    "print(\"The best parameters are {} with a score of %{}\".format(grid.best_params_, grid.best_score_))\n",
    "\n",
    "#Put those parameters in a dictionary to call.\n",
    "svcparameters = grid.best_params_\n",
    "\n",
    "print('\\nIt took the following time to complete this task:', datetime.now() - start)"
   ]
  },
  {
   "cell_type": "code",
   "execution_count": 24,
   "metadata": {},
   "outputs": [
    {
     "data": {
      "text/plain": [
       "\"start = datetime.now()\\nsvc = LinearSVC(C=svcparameters['C'], multi_class='ovr')\\ntesting_func(svc, models, tf_idf_method)\\nprint('\\nIt took the following time to complete this task:', datetime.now() - start)\""
      ]
     },
     "execution_count": 24,
     "metadata": {},
     "output_type": "execute_result"
    }
   ],
   "source": [
    "start = datetime.now()\n",
    "svc = LinearSVC(C=svcparameters['C'], multi_class='ovr')\n",
    "testing_func(svc, models, tf_idf_method)\n",
    "print('\\nIt took the following time to complete this task:', datetime.now() - start)"
   ]
  },
  {
   "cell_type": "markdown",
   "metadata": {},
   "source": [
    "### Random Forest\n",
    "\n",
    "Random Forest employs a bootstrapping method of taking random subsamples of data and creating a decision tree for the classifier. The number of estimators below is how many trees it is employing to make the decision. Max Depth is the layers of nodes in the trees. The deeper the tree, the more likely it is to overfit the classifier by going into variables that aren't important in making the ultimate decision. Due to the number of features and how they work in this model, it is working better with a deeper tree of 16 than models run with lower depths. <br>\n",
    "<br>\n",
    "n_jobs is set to 4 to account for parallel processing. With a quadcore CPU, each core is able to create decision trees cutting down the overall time it takes to create the forest of decision trees used to classify the wine variety."
   ]
  },
  {
   "cell_type": "code",
   "execution_count": 25,
   "metadata": {},
   "outputs": [
    {
     "data": {
      "text/plain": [
       "\"start = datetime.now()\\nrfc = RandomForestClassifier(n_estimators=1000, \\n                                 max_depth=16, n_jobs=4)\\ntesting_func(rfc, models, tf_idf_method)\\nprint('\\n It took the following time to complete this task:', datetime.now() - start)\""
      ]
     },
     "execution_count": 25,
     "metadata": {},
     "output_type": "execute_result"
    }
   ],
   "source": [
    "start = datetime.now()\n",
    "rfc = RandomForestClassifier(n_estimators=1000, \n",
    "                                 max_depth=16, n_jobs=4)\n",
    "testing_func(rfc, models, tf_idf_method)\n",
    "print('\\n It took the following time to complete this task:', datetime.now() - start)"
   ]
  },
  {
   "cell_type": "markdown",
   "metadata": {},
   "source": [
    "## Spacy\n",
    "Now, let's prep the data for analysis using the natural language processor, Spacy. First, we need to create our functions for creating word counts and features based on those counts."
   ]
  },
  {
   "cell_type": "code",
   "execution_count": null,
   "metadata": {
    "collapsed": true
   },
   "outputs": [],
   "source": [
    "def bag_of_words(text):\n",
    "    \n",
    "    # Filter out punctuation and stop words.\n",
    "    allwords = [token.lemma_\n",
    "                for token in text\n",
    "                if not token.is_punct\n",
    "                and not token.is_stop]\n",
    "    \n",
    "    # Return the most common words.\n",
    "    return [item[0] for item in Counter(allwords).most_common(2000)]\n",
    "\n",
    "def bow_features(sentences, common_words):\n",
    "\n",
    "    # Scaffold the data frame and initialize counts to zero.\n",
    "    s_index = len(sentences)\n",
    "    df = pd.DataFrame(columns=common_words, index=range(s_index))\n",
    "    \n",
    "    df['content'] = sentences['content']\n",
    "    df['author'] = sentences['author']\n",
    "    df = df.fillna(0)\n",
    "    \n",
    "\n",
    "    # Process each row, counting the occurrence of words in each sentence.\n",
    "    for i, sentence in enumerate(df['content']):\n",
    "        \n",
    "        # Convert the sentence to lemmas, then filter out punctuation,\n",
    "        # stop words, and uncommon words.\n",
    "        \n",
    "        words = [token.lemma_\n",
    "                 for token in sentence\n",
    "                 if (\n",
    "                     not token.is_punct\n",
    "                     and not token.is_stop\n",
    "                     and token.lemma_ in common_words\n",
    "                 )]\n",
    "       \n",
    "        # Populate the row with word counts.\n",
    "        for word in words:\n",
    "            df.loc[i, word] += 1\n",
    "\n",
    "        # This counter is just to make sure the kernel didn't hang.\n",
    "        if i % 5000 == 0:\n",
    "            print(\"Processing row {}\".format(i))\n",
    "            \n",
    "    return df\n"
   ]
  },
  {
   "cell_type": "code",
   "execution_count": null,
   "metadata": {
    "scrolled": false
   },
   "outputs": [],
   "source": [
    "start = datetime.now()\n",
    "# Set up Spacy\n",
    "nlp = spacy.load('en')\n",
    "# Create a dataframe for our parsed descriptions and parse them.\n",
    "parsed_content = test_df\n",
    "parsed_content['content'] = parsed_content['content'].apply(lambda x: nlp(x))\n",
    "\n",
    "# Figure out the most common words\n",
    "content_words = parsed_content['content'].apply(bag_of_words)\n",
    "flat_list = [item for sublist in content_words for item in sublist]\n",
    "common_words = set(flat_list)\n",
    "\n",
    "# Use the second function to count the appearance of the common words in each description\n",
    "word_counts = bow_features(parsed_content, common_words)\n",
    "print(word_counts.head(10))\n",
    "print('\\nIt took the following time to complete this task:', datetime.now() - start)"
   ]
  },
  {
   "cell_type": "markdown",
   "metadata": {},
   "source": [
    "Now that there are word counts for each description, let's use that to see if the computer can figure out what the  variety is by the descriptions. Since we are using word counts in a dataframe and not creating a vectorized dataset as above in TF_IDF, it is easy to add other features like country of origin for the wine, which may give an additional clue."
   ]
  },
  {
   "cell_type": "code",
   "execution_count": null,
   "metadata": {},
   "outputs": [],
   "source": [
    "# Set the X,Y and create a training/test set.\n",
    "X = word_counts.drop(['author', 'content'], 1)\n",
    "y = word_counts['author']\n",
    "\n",
    "# Splitting into training and test sets\n",
    "Spacy_X_train, Spacy_X_test, Spacy_y_train, Spacy_y_test= train_test_split(X, y, test_size=0.4, random_state=0)\n",
    "print(set(Spacy_y_test), varieties_list)\n",
    "# These will be the models for SpaCy\n",
    "models = [[Spacy_X_train, Spacy_y_train, Spacy_X_test, Spacy_y_test]] \n",
    "\n",
    "# Let's tell it that it is SpaCy\n",
    "Spacy_method = ['SpaCy Training', 'SpaCy Test', 'SpaCy CV']"
   ]
  },
  {
   "cell_type": "code",
   "execution_count": null,
   "metadata": {
    "collapsed": true
   },
   "outputs": [],
   "source": [
    "# Start with a simple sequential model\n",
    "model = Sequential()\n",
    "\n",
    "# Add dense layers to create a fully connected MLP\n",
    "# Note that we specify an input shape for the first layer, but only the first layer.\n",
    "# Relu is the activation function used\n",
    "model.add(Dense(128, activation='sigmoid', input_shape=(Spacy_X_test.shape[1],)))\n",
    "# Dropout layers remove features and fight overfitting\n",
    "model.add(Dropout(0.1))\n",
    "model.add(Dense(128, activation='relu'))\n",
    "model.add(Dropout(0.1))\n",
    "model.add(Dense(64, activation='relu'))\n",
    "model.add(Dropout(0.1))\n",
    "# End with a number of units equal to the number of classes we have for our outcome\n",
    "model.add(Dense(1, activation='sigmoid'))\n",
    "\n",
    "model.summary()\n",
    "sgd = SGD(lr = 0.1, momentum = 0.9, decay = 0, nesterov = False)\n",
    "# Compile the model to put it all together.\n",
    "model.compile(loss='binary_crossentropy',\n",
    "              optimizer=sgd,\n",
    "              metrics=['accuracy'])"
   ]
  },
  {
   "cell_type": "code",
   "execution_count": null,
   "metadata": {
    "collapsed": true
   },
   "outputs": [],
   "source": [
    "start = datetime.now()\n",
    "history = model.fit(Spacy_X_train, Spacy_y_train,\n",
    "                    batch_size=64,\n",
    "                    epochs=10,\n",
    "                    verbose=1,\n",
    "                    validation_data=(Spacy_X_test, Spacy_y_test))\n",
    "score = model.evaluate(Spacy_X_test, Spacy_y_test, verbose=0)\n",
    "print('Test loss:', score[0])\n",
    "print('Test accuracy:', score[1])\n",
    "print('\\nIt took the following time to complete this task:', datetime.now() - start)"
   ]
  },
  {
   "cell_type": "code",
   "execution_count": null,
   "metadata": {
    "collapsed": true
   },
   "outputs": [],
   "source": [
    "x_train = Spacy_X_train.values\n",
    "x_test = Spacy_X_test.values"
   ]
  },
  {
   "cell_type": "code",
   "execution_count": null,
   "metadata": {
    "collapsed": true
   },
   "outputs": [],
   "source": [
    "\n",
    "# set parameters:\n",
    "max_features = 20\n",
    "maxlen = 16\n",
    "batch_size = 64\n",
    "embedding_dims = 25\n",
    "filters = 216\n",
    "kernel_size = 3\n",
    "hidden_dims = 256\n",
    "epochs = 100\n",
    "\n",
    "print('Pad sequences (samples x time)')\n",
    "x_train = sequence.pad_sequences(x_train, maxlen=maxlen)\n",
    "x_test = sequence.pad_sequences(x_test, maxlen=maxlen)\n",
    "print('x_train shape:', x_train.shape)\n",
    "print('x_test shape:', x_test.shape)"
   ]
  },
  {
   "cell_type": "code",
   "execution_count": null,
   "metadata": {
    "collapsed": true
   },
   "outputs": [],
   "source": [
    "model = Sequential()\n",
    "\n",
    "# we start off with an efficient embedding layer which maps\n",
    "# our vocab indices into embedding_dims dimensions\n",
    "model.add(Embedding(max_features,\n",
    "                    embedding_dims,\n",
    "                    input_length=maxlen))\n",
    "model.add(Dropout(0.2))\n",
    "\n",
    "# we add a Convolution1D, which will learn filters\n",
    "# word group filters of size filter_length:\n",
    "model.add(Conv1D(filters,\n",
    "                 kernel_size,\n",
    "                 padding='valid',\n",
    "                 activation='relu',\n",
    "                 strides=1))\n",
    "# we use max pooling:\n",
    "model.add(GlobalMaxPooling1D())\n",
    "\n",
    "# We add a vanilla hidden layer:\n",
    "model.add(Dense(hidden_dims))\n",
    "model.add(Dropout(0.1))\n",
    "model.add(Activation('sigmoid'))\n",
    "# We add a vanilla hidden layer:\n",
    "model.add(Dense(hidden_dims))\n",
    "model.add(Dropout(0.1))\n",
    "model.add(Activation('relu'))\n",
    "# We project onto a single unit output layer, and squash it with a sigmoid:\n",
    "model.add(Dense(1))\n",
    "model.add(Activation('sigmoid'))\n",
    "\n",
    "model.compile(loss='binary_crossentropy',\n",
    "              optimizer='adam',\n",
    "              metrics=['accuracy'])\n",
    "model.fit(x_train, y_train,\n",
    "          batch_size=batch_size,\n",
    "          epochs=epochs,\n",
    "          validation_data=(x_test, y_test))\n",
    "score = model.evaluate(x_test, y_test, verbose=0)\n",
    "print('Test loss:', score[0])\n",
    "print('Test accuracy:', score[1])"
   ]
  },
  {
   "cell_type": "markdown",
   "metadata": {},
   "source": [
    "Now, let's apply the same three models as above to get an apples to apples comparison.\n",
    "\n",
    "### Logistic Regression"
   ]
  },
  {
   "cell_type": "code",
   "execution_count": null,
   "metadata": {},
   "outputs": [],
   "source": [
    "start = datetime.now()\n",
    "\n",
    "# Putting it in multi-class and changing the solver allows it to handle multinomial classification\n",
    "lr = LogisticRegression(C=1, multi_class='multinomial', solver='lbfgs')\n",
    "testing_func(lr, models, Spacy_method)\n",
    "print('It took the following time to complete this task:', datetime.now() - start)"
   ]
  },
  {
   "cell_type": "markdown",
   "metadata": {},
   "source": [
    "### SVC"
   ]
  },
  {
   "cell_type": "code",
   "execution_count": null,
   "metadata": {},
   "outputs": [],
   "source": [
    "start = datetime.now()\n",
    "# The \"ovr\" method allows SVC to do multinomial classification\n",
    "svc = LinearSVC(C=svcparameters['C'], multi_class='ovr')\n",
    "testing_func(svc, models, Spacy_method)\n",
    "print('It took the following time to complete this task:', datetime.now() - start)"
   ]
  },
  {
   "cell_type": "markdown",
   "metadata": {},
   "source": [
    "### Random Forest"
   ]
  },
  {
   "cell_type": "code",
   "execution_count": null,
   "metadata": {},
   "outputs": [],
   "source": [
    "start = datetime.now()\n",
    "rfc = RandomForestClassifier(n_estimators=1000, \n",
    "                                 max_depth=16, n_jobs=4)\n",
    "testing_func(rfc, models, Spacy_method)\n",
    "print('\\nIt took the following time to complete this task:', datetime.now() - start)"
   ]
  },
  {
   "cell_type": "markdown",
   "metadata": {},
   "source": [
    "## Results\n",
    "\n",
    "Spacy with Logistic Regression edged out the others performing the most accurately with over 94.6% accuracy. That's a pretty sharp model, but let's take a deeper dive into where it was making mistakes through a confusion matrix showing which ones it got wrong and which it got right (on the diagonal)."
   ]
  },
  {
   "cell_type": "code",
   "execution_count": null,
   "metadata": {},
   "outputs": [],
   "source": [
    "model = LogisticRegression(C=1, multi_class='multinomial', solver='lbfgs')\n",
    "model.fit(Spacy_X_train, Spacy_y_train)\n",
    "y_pred = model.predict(Spacy_X_test)\n",
    "print(len(set(Spacy_y_test)), len(word_count['author']))\n",
    "conf_mat = confusion_matrix(Spacy_y_test, y_pred)\n",
    "fig, ax = plt.subplots(figsize=(10,10))\n",
    "sns.heatmap(conf_mat, annot=True, fmt='d', xticklabels=word_count['author'], yticklabels=word_count['author'])\n",
    "plt.ylabel('Actual')\n",
    "plt.xlabel('Predicted')\n",
    "plt.show()"
   ]
  },
  {
   "cell_type": "markdown",
   "metadata": {},
   "source": [
    "## Unsupervised Learning\n",
    "\n",
    "First, let's use the LSA generated X to see similarities in the wine descriptions to see the different aspects the machine sees in the data."
   ]
  },
  {
   "cell_type": "code",
   "execution_count": null,
   "metadata": {},
   "outputs": [],
   "source": [
    "articles_by_component=pd.DataFrame(lsa_X,index=test_df['content']) \n",
    "articles_by_component.shape\n",
    "\n",
    "print(\"Percent variance captured by all components:\",total_variance*100)\n",
    "\n",
    "\n",
    "for i in range(3): \n",
    "    print('Component {}:'.format(i)) \n",
    "    print(articles_by_component.loc[:,i].sort_values(ascending=False)[0:5])\n",
    "\n"
   ]
  },
  {
   "cell_type": "markdown",
   "metadata": {},
   "source": [
    "LSA analysis pulls up similarities in the different components. Component 0 seems to really home in on red fruits such as cherries and raspberries in the descriptions. Component 1 has different wine descriptions that go into the wine's acidity, meaning it was of mention. Component 2 goes into the \"rich\" wines that are creamy, fruity, or complex in character.\n",
    "\n",
    "Now, let's look at sentence similarity."
   ]
  },
  {
   "cell_type": "code",
   "execution_count": null,
   "metadata": {},
   "outputs": [],
   "source": [
    "# Compute document similarity using LSA components\n",
    "similarity = np.asarray(np.asmatrix(lsa_X) * np.asmatrix(lsa_X).T)\n",
    "#Only taking the first 10 sentences\n",
    "sim_matrix=pd.DataFrame(similarity,index=test_df['content').iloc[0:10,0:10]\n",
    "#Making a plot\n",
    "ax = sns.heatmap(sim_matrix,yticklabels=range(10))\n",
    "plt.show()\n",
    "\n",
    "#Generating a key for the plot.\n",
    "print('Key:')\n",
    "for i in range(10):\n",
    "    print(i,sim_matrix.index[i])\n"
   ]
  },
  {
   "cell_type": "code",
   "execution_count": null,
   "metadata": {
    "collapsed": true
   },
   "outputs": [],
   "source": [
    "Spacy_X = word_counts.drop(['content'], 1)\n",
    "pca = PCA(n_components=20)\n",
    "Spacy_X_pca = pca.fit_transform(Spacy_X)\n",
    "Spacy_X_pca = pd.DataFrame(Spacy_X_pca)"
   ]
  },
  {
   "cell_type": "code",
   "execution_count": null,
   "metadata": {},
   "outputs": [],
   "source": [
    "start = datetime.now()\n",
    "models = [Spacy_X_pca, lsa_X]\n",
    "kclust = np.arange(2, 11, 2)\n",
    "for k in kclust:\n",
    "    # Calculate predicted values.\n",
    "    kmeans = KMeans(n_clusters=k, random_state=0)\n",
    "    for m in models:\n",
    "        kmeans.fit(m)\n",
    "        # Check the solution against the data.\n",
    "        labelskm = kmeans.labels_\n",
    "        print(k, metrics.silhouette_score(m, labelskm, metric='euclidean'))\n",
    "print('\\nIt took the following time to complete this task:', datetime.now() - start)"
   ]
  }
 ],
 "metadata": {
  "kernelspec": {
   "display_name": "Python 3",
   "language": "python",
   "name": "python3"
  },
  "language_info": {
   "codemirror_mode": {
    "name": "ipython",
    "version": 3
   },
   "file_extension": ".py",
   "mimetype": "text/x-python",
   "name": "python",
   "nbconvert_exporter": "python",
   "pygments_lexer": "ipython3",
   "version": "3.6.1"
  }
 },
 "nbformat": 4,
 "nbformat_minor": 2
}
